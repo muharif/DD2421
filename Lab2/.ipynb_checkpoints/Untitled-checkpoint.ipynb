{
 "cells": [
  {
   "cell_type": "code",
   "execution_count": 98,
   "metadata": {},
   "outputs": [],
   "source": [
    "import numpy as np\n",
    "import random, math\n",
    "from matplotlib import pyplot as plt\n",
    "from scipy.optimize import minimize\n",
    "from matplotlib import animation,rc"
   ]
  },
  {
   "cell_type": "code",
   "execution_count": 58,
   "metadata": {},
   "outputs": [],
   "source": [
    "#generate data\n",
    "np.random.seed(100)\n",
    "classA = np.concatenate((np.random.randn(10, 2)*0.2 + [1.5, 0.5],np.random.randn(10, 2)*0.2 + [-1.5, 0.5]))\n",
    "classB = np.random.randn(20, 2)*0.2 + [0.0 , -0.5]\n",
    "inputs = np.concatenate ((classA,classB ))\n",
    "targets = np.concatenate ((np.ones(classA.shape[0]),-1*(np.ones(classB.shape[0]))))\n",
    "N = inputs.shape[0]\n",
    "permute=list(range(N))\n",
    "random.shuffle(permute)\n",
    "inputs = inputs[ permute , : ]\n",
    "targets = targets[ permute ]\n",
    "\n",
    "def kernel(x, y,kernel_trick, z=0):\n",
    "    if kernel_trick == 'linear':\n",
    "        return linear_kernel(x, y, z)\n",
    "    elif kernel_trick == 'poly':\n",
    "        return poly_kernel(x, y, z)\n",
    "    elif kernel_trick == 'RBF':\n",
    "        return RBF_kernel(x, y, z)\n",
    "\n",
    "def linear_kernel(x,y,z):\n",
    "    return np.dot(np.transpose(x),y)\n",
    "def poly_kernel(x,y,p):\n",
    "    return (np.dot(np.transpose(x),y)+1)**p\n",
    "def RBF_kernel(x,y,s):\n",
    "\n",
    "    temp1=np.dot(np.subtract(x,y),np.subtract(x,y))\n",
    "    temp2=2*(s**2)\n",
    "    return math.exp(-1*(temp1/temp2))\n",
    "\n",
    "def gen_P(data,targets,kernel1, z):\n",
    "    p=np.zeros([len(data)]*2)\n",
    "    for i in range(len(data)):\n",
    "#         p[i,:]=[targets[i]*targets[j]*linear_kernel([data[i][0],data[i][1]],[data[j][0],data[j][1]]) for j in range(len(data))]\n",
    "#         p[i,:]=[targets[i]*targets[j]*RBF_kernel([data[i][0],data[i][1]],[data[j][0],data[j][1]],mbut) for j in range(len(data))]\n",
    "#         p[i,:]=[targets[i]*targets[j]*poly_kernel([data[i][0],data[i][1]],[data[j][0],data[j][1]],mbut) for j in range(len(data))]\n",
    "        p[i,:]=[targets[i]*targets[j]*kernel([data[i][0],data[i][1]],[data[j][0],data[j][1]],kernel1,z) for j in range(len(data))]\n",
    "    return p\n",
    "\n",
    "def obj(a):\n",
    "    temp1=np.zeros(len(inputs))\n",
    "    for i in range(len(P)):\n",
    "        temp1[i]=np.sum([a[i]*a[j]*P[i][j] for j in range(len(P))])\n",
    "    temp1=np.sum(temp1)\n",
    "    temp2=np.sum(a)\n",
    "    return (temp1/2)-temp2\n",
    "\n",
    "def zerofun(a,data=targets):\n",
    "    return np.sum([a[i]*targets[i] for i in range(len(a))])\n",
    "\n",
    "def indicator(x,y,kernel1,z):\n",
    "#     return np.sum([a1[i]*targets1[i]*linear_kernel([x,y],[inputs1[i][0],inputs1[i][1]]) for i in range(len(a1))])\n",
    "#     return np.sum([a1[i]*targets1[i]*poly_kernel([x,y],[inputs1[i][0],inputs1[i][1]],mbut) for i in range(len(a1))])\n",
    "    return np.sum([a1[i]*targets1[i]*kernel([x,y],[inputs1[i][0],inputs1[i][1]],kernel1,z) for i in range(len(a1))])"
   ]
  },
  {
   "cell_type": "code",
   "execution_count": 77,
   "metadata": {},
   "outputs": [
    {
     "name": "stdout",
     "output_type": "stream",
     "text": [
      "True\n",
      "True\n",
      "True\n",
      "True\n",
      "True\n"
     ]
    },
    {
     "data": {
      "image/png": "[encoded data removed]",
      "text/plain": [
       "<matplotlib.figure.Figure at 0x10e032ed0>"
      ]
     },
     "metadata": {},
     "output_type": "display_data"
    }
   ],
   "source": [
    "mbut=3\n",
    "limits=[None,0.1,1,10,100]\n",
    "ker='poly'\n",
    "fig=[311,321,331]\n",
    "\n",
    "for haha in range(len(limits)):\n",
    "    limit=limits[haha]\n",
    "    P=gen_P(inputs,targets, ker ,mbut)\n",
    "\n",
    "\n",
    "    #Constraint and Boundaries\n",
    "    B=[(0, limit) for b in range(N)]\n",
    "    XC={'type':'eq', 'fun':zerofun}\n",
    "\n",
    "    #minimization\n",
    "    ret = minimize(obj, np.zeros(N), bounds=B, constraints=XC )\n",
    "    a = ret['x']\n",
    "\n",
    "    print(ret['success'])\n",
    "\n",
    "    #filter\n",
    "    a1=a[a>10e-5]\n",
    "    inputs1=inputs[a>10e-5]\n",
    "    targets1=targets[a>10e-5]\n",
    "\n",
    "    #draw\n",
    "#     plt.figure(haha+1)\n",
    "#     plt.subplot(fig[haha])\n",
    "    xgrid=np.linspace(-5, 5)\n",
    "    ygrid=np.linspace(-4, 4)\n",
    "    plt.plot([p[0] for p in classA],[p[1] for p in classA],'b.')\n",
    "    plt.plot([p[0] for p in classB],[p[1] for p in classB],'r.')\n",
    "    plt.title(ker+' limit: '+str(limit)+' var: '+str(mbut))\n",
    "    plt.axis('equal')\n",
    "    grid=np.array([[indicator(x, y,ker,mbut) for x in xgrid ] for y in ygrid])\n",
    "    plt.contour(xgrid , ygrid , grid , (-1.0, 0.0, 1.0),colors=('r', 'k', 'b'), linewidths=(1, 3, 1))\n",
    "#     plt.savefig('figures/'+ker+' limit: '+str(limit)+' var: '+str(mbut)+'.png')\n",
    "#     plt.show()"
   ]
  },
  {
   "cell_type": "code",
   "execution_count": 100,
   "metadata": {},
   "outputs": [
    {
     "ename": "ValueError",
     "evalue": "Cannot save animation: no writers are available. Please install mencoder or ffmpeg to save animations.",
     "output_type": "error",
     "traceback": [
      "\u001b[0;31m---------------------------------------------------------------------------\u001b[0m",
      "\u001b[0;31mValueError\u001b[0m                                Traceback (most recent call last)",
      "\u001b[0;32m<ipython-input-100-b5e16a613e91>\u001b[0m in \u001b[0;36m<module>\u001b[0;34m()\u001b[0m\n\u001b[1;32m     48\u001b[0m \u001b[0manim\u001b[0m \u001b[0;34m=\u001b[0m \u001b[0manimation\u001b[0m\u001b[0;34m.\u001b[0m\u001b[0mFuncAnimation\u001b[0m\u001b[0;34m(\u001b[0m\u001b[0mfig\u001b[0m\u001b[0;34m,\u001b[0m \u001b[0mcoba\u001b[0m\u001b[0;34m,\u001b[0m \u001b[0mframes\u001b[0m\u001b[0;34m=\u001b[0m\u001b[0mrange\u001b[0m\u001b[0;34m(\u001b[0m\u001b[0;36m4\u001b[0m\u001b[0;34m)\u001b[0m\u001b[0;34m)\u001b[0m\u001b[0;34m\u001b[0m\u001b[0m\n\u001b[1;32m     49\u001b[0m \u001b[0;34m\u001b[0m\u001b[0m\n\u001b[0;32m---> 50\u001b[0;31m \u001b[0manim\u001b[0m\u001b[0;34m.\u001b[0m\u001b[0msave\u001b[0m\u001b[0;34m(\u001b[0m\u001b[0;34m'line.gif'\u001b[0m\u001b[0;34m,\u001b[0m \u001b[0mdpi\u001b[0m\u001b[0;34m=\u001b[0m\u001b[0;36m80\u001b[0m\u001b[0;34m,\u001b[0m \u001b[0mwriter\u001b[0m\u001b[0;34m=\u001b[0m\u001b[0;34m'imagemagick'\u001b[0m\u001b[0;34m)\u001b[0m\u001b[0;34m\u001b[0m\u001b[0m\n\u001b[0m",
      "\u001b[0;32m/usr/local/lib/python2.7/site-packages/matplotlib/animation.pyc\u001b[0m in \u001b[0;36msave\u001b[0;34m(self, filename, writer, fps, dpi, codec, bitrate, extra_args, metadata, extra_anim, savefig_kwargs)\u001b[0m\n\u001b[1;32m    789\u001b[0m                                                         metadata=metadata)\n\u001b[1;32m    790\u001b[0m                 \u001b[0;32mexcept\u001b[0m \u001b[0mIndexError\u001b[0m\u001b[0;34m:\u001b[0m\u001b[0;34m\u001b[0m\u001b[0m\n\u001b[0;32m--> 791\u001b[0;31m                     raise ValueError(\"Cannot save animation: no writers are \"\n\u001b[0m\u001b[1;32m    792\u001b[0m                                      \u001b[0;34m\"available. Please install mencoder or \"\u001b[0m\u001b[0;34m\u001b[0m\u001b[0m\n\u001b[1;32m    793\u001b[0m                                      \"ffmpeg to save animations.\")\n",
      "\u001b[0;31mValueError\u001b[0m: Cannot save animation: no writers are available. Please install mencoder or ffmpeg to save animations."
     ]
    },
    {
     "data": {
      "image/png": "[encoded data removed]",
      "text/plain": [
       "<matplotlib.figure.Figure at 0x10e665410>"
      ]
     },
     "metadata": {},
     "output_type": "display_data"
    }
   ],
   "source": [
    "mbut=3\n",
    "limits=[None,0.1,1,10,100]\n",
    "ker='poly'\n",
    "# fig=[311,321,331]\n",
    "\n",
    "fig, ax = plt.subplots()\n",
    "# fig.set_tight_layout(True)\n",
    "\n",
    "xgrid=np.linspace(-5, 5)\n",
    "ygrid=np.linspace(-4, 4)\n",
    "plt.plot([p[0] for p in classA],[p[1] for p in classA],'b.')\n",
    "plt.plot([p[0] for p in classB],[p[1] for p in classB],'r.')\n",
    "\n",
    "rc('animation', html='html5')\n",
    "\n",
    "def coba(haha):\n",
    "    limit=limits[haha]\n",
    "    P=gen_P(inputs,targets, ker ,mbut)\n",
    "\n",
    "\n",
    "    #Constraint and Boundaries\n",
    "    B=[(0, limit) for b in range(N)]\n",
    "    XC={'type':'eq', 'fun':zerofun}\n",
    "\n",
    "    #minimization\n",
    "    ret = minimize(obj, np.zeros(N), bounds=B, constraints=XC )\n",
    "    a = ret['x']\n",
    "\n",
    "    print(ret['success'])\n",
    "\n",
    "    #filter\n",
    "    a1=a[a>10e-5]\n",
    "    inputs1=inputs[a>10e-5]\n",
    "    targets1=targets[a>10e-5]\n",
    "\n",
    "    #draw\n",
    "#     plt.figure(haha+1)\n",
    "#     plt.subplot(fig[haha])\n",
    "\n",
    "#     plt.title(ker+' limit: '+str(limit)+' var: '+str(mbut))\n",
    "#     plt.axis('equal')\n",
    "    grid=np.array([[indicator(x, y,ker,mbut) for x in xgrid ] for y in ygrid])\n",
    "    cont=plt.contour(xgrid , ygrid , grid , (-1.0, 0.0, 1.0),colors=('r', 'k', 'b'), linewidths=(1, 3, 1))\n",
    "    return cont\n",
    "#     plt.savefig('figures/'+ker+' limit: '+str(limit)+' var: '+str(mbut)+'.png')\n",
    "#     plt.show()\n",
    "\n",
    "anim = animation.FuncAnimation(fig, coba, frames=range(4))\n",
    "\n",
    "anim.save('line.gif', dpi=80, writer='imagemagick')"
   ]
  },
  {
   "cell_type": "code",
   "execution_count": 88,
   "metadata": {},
   "outputs": [
    {
     "data": {
      "text/plain": [
       "array([ 0. ,  1.5,  3. ])"
      ]
     },
     "execution_count": 88,
     "metadata": {},
     "output_type": "execute_result"
    }
   ],
   "source": [
    "np.linspace(0,3,3)"
   ]
  },
  {
   "cell_type": "code",
   "execution_count": null,
   "metadata": {},
   "outputs": [],
   "source": []
  }
 ],
 "metadata": {
  "kernelspec": {
   "display_name": "Python 2",
   "language": "python",
   "name": "python2"
  },
  "language_info": {
   "codemirror_mode": {
    "name": "ipython",
    "version": 2
   },
   "file_extension": ".py",
   "mimetype": "text/x-python",
   "name": "python",
   "nbconvert_exporter": "python",
   "pygments_lexer": "ipython2",
   "version": "2.7.12"
  }
 },
 "nbformat": 4,
 "nbformat_minor": 2
}
