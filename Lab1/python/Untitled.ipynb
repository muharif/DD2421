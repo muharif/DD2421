{
 "cells": [
  {
   "cell_type": "code",
   "execution_count": 1,
   "metadata": {},
   "outputs": [],
   "source": [
    "import PyQt5\n",
    "import monkdata as m\n",
    "import dtree\n",
    "import numpy as np\n",
    "import pandas as pd\n",
    "import random\n",
    "from matplotlib import pyplot as plt\n",
    "import seaborn as sns\n",
    "sns.set(style=\"ticks\")"
   ]
  },
  {
   "cell_type": "markdown",
   "metadata": {},
   "source": [
    "## Assignment 0\n",
    "Rank based on difficulty in making decision tree (Harder to easier):\n",
    "1. MONK-2: High uncertainty, since it can fulfill the true requirement with any two attributes equal to 1.\n",
    "2. MONK-3: It has more certainty compared to MONK-2 and MONK-1 (specific requirement from the attributes). But it has 5% of noise, so this makes it worse than MONK-1.\n",
    "3. MONK-1: It has higher centrainty compared to MONK-2, but randomness is still higher compared to MONK-3 due to $(a_{1} = a_{2})$ specification"
   ]
  },
  {
   "cell_type": "markdown",
   "metadata": {},
   "source": [
    "## Assignment 1"
   ]
  },
  {
   "cell_type": "code",
   "execution_count": 2,
   "metadata": {},
   "outputs": [
    {
     "name": "stdout",
     "output_type": "stream",
     "text": [
      "Entropy MONK-1: 1.0\n",
      "Entropy MONK-2: 0.957117428264771\n",
      "Entropy MONK-3: 0.9998061328047111\n"
     ]
    }
   ],
   "source": [
    "print('Entropy MONK-1: '+str(dtree.entropy(m.monk1)))\n",
    "print('Entropy MONK-2: '+str(dtree.entropy(m.monk2)))\n",
    "print('Entropy MONK-3: '+str(dtree.entropy(m.monk3)))"
   ]
  },
  {
   "cell_type": "markdown",
   "metadata": {},
   "source": [
    "## Assignment 2\n",
    "1. Entropy in uniform distribution is higher since it has same probability of each possibility, for example fair dice. Entropy for fair coin is 1\n",
    "2. Entropy in non-uniform distribution is lower since it doesn't have same probability for different outcomes, for example, rigged coin (head 0.75, tail 0.25). Entropy is 0.81"
   ]
  },
  {
   "cell_type": "markdown",
   "metadata": {},
   "source": [
    "## Assignment 3"
   ]
  },
  {
   "cell_type": "code",
   "execution_count": 3,
   "metadata": {},
   "outputs": [
    {
     "data": {
      "text/html": [
       "<div>\n",
       "<table border=\"1\" class=\"dataframe\">\n",
       "  <thead>\n",
       "    <tr style=\"text-align: right;\">\n",
       "      <th></th>\n",
       "      <th>$a_1$</th>\n",
       "      <th>$a_2$</th>\n",
       "      <th>$a_3$</th>\n",
       "      <th>$a_4$</th>\n",
       "      <th>$a_5$</th>\n",
       "      <th>$a_6$</th>\n",
       "    </tr>\n",
       "  </thead>\n",
       "  <tbody>\n",
       "    <tr>\n",
       "      <th>MONK-1</th>\n",
       "      <td>0.075273</td>\n",
       "      <td>0.005838</td>\n",
       "      <td>0.004708</td>\n",
       "      <td>0.026312</td>\n",
       "      <td>0.287031</td>\n",
       "      <td>0.000758</td>\n",
       "    </tr>\n",
       "    <tr>\n",
       "      <th>MONK-2</th>\n",
       "      <td>0.003756</td>\n",
       "      <td>0.002458</td>\n",
       "      <td>0.001056</td>\n",
       "      <td>0.015664</td>\n",
       "      <td>0.017277</td>\n",
       "      <td>0.006248</td>\n",
       "    </tr>\n",
       "    <tr>\n",
       "      <th>MONK-3</th>\n",
       "      <td>0.007121</td>\n",
       "      <td>0.293736</td>\n",
       "      <td>0.000831</td>\n",
       "      <td>0.002892</td>\n",
       "      <td>0.255912</td>\n",
       "      <td>0.007077</td>\n",
       "    </tr>\n",
       "  </tbody>\n",
       "</table>\n",
       "</div>"
      ],
      "text/plain": [
       "           $a_1$     $a_2$     $a_3$     $a_4$     $a_5$     $a_6$\n",
       "MONK-1  0.075273  0.005838  0.004708  0.026312  0.287031  0.000758\n",
       "MONK-2  0.003756  0.002458  0.001056  0.015664  0.017277  0.006248\n",
       "MONK-3  0.007121  0.293736  0.000831  0.002892  0.255912  0.007077"
      ]
     },
     "execution_count": 3,
     "metadata": {},
     "output_type": "execute_result"
    }
   ],
   "source": [
    "temp=[dtree.averageGain(j,m.attributes[i]) for j in [m.monk1,m.monk2,m.monk3] for i in range(6)]\n",
    "res={}\n",
    "res['MONK-1']=temp[0:6]\n",
    "res['MONK-2']=temp[6:12]\n",
    "res['MONK-3']=temp[12:18]\n",
    "res=pd.DataFrame.from_dict(res).T\n",
    "res.columns=['$a_'+str(i+1)+'$' for i in range(6)]\n",
    "res"
   ]
  },
  {
   "cell_type": "markdown",
   "metadata": {},
   "source": [
    "From the data above, $a_5$ seems to be the best attributes since it has the highest information gain for MONK-1 and MONK-2, and second highest in MONK-3. For MONK-3, $a_2$ is the highest."
   ]
  },
  {
   "cell_type": "markdown",
   "metadata": {},
   "source": [
    "## Assignment 4"
   ]
  },
  {
   "cell_type": "markdown",
   "metadata": {},
   "source": [
    "When information gain is maximized, $entropy(S_k)$ is minimized. That means, we use information gain to select the attribute with lowest uncertainty."
   ]
  },
  {
   "cell_type": "markdown",
   "metadata": {},
   "source": [
    "## Assignment 5"
   ]
  },
  {
   "cell_type": "code",
   "execution_count": 4,
   "metadata": {},
   "outputs": [
    {
     "data": {
      "text/html": [
       "<div>\n",
       "<table border=\"1\" class=\"dataframe\">\n",
       "  <thead>\n",
       "    <tr style=\"text-align: right;\">\n",
       "      <th></th>\n",
       "      <th>$E_{train}$</th>\n",
       "      <th>$E_{test}$</th>\n",
       "    </tr>\n",
       "  </thead>\n",
       "  <tbody>\n",
       "    <tr>\n",
       "      <th>MONK-1</th>\n",
       "      <td>0.0</td>\n",
       "      <td>0.171296</td>\n",
       "    </tr>\n",
       "    <tr>\n",
       "      <th>MONK-2</th>\n",
       "      <td>0.0</td>\n",
       "      <td>0.307870</td>\n",
       "    </tr>\n",
       "    <tr>\n",
       "      <th>MONK-3</th>\n",
       "      <td>0.0</td>\n",
       "      <td>0.055556</td>\n",
       "    </tr>\n",
       "  </tbody>\n",
       "</table>\n",
       "</div>"
      ],
      "text/plain": [
       "        $E_{train}$  $E_{test}$\n",
       "MONK-1          0.0    0.171296\n",
       "MONK-2          0.0    0.307870\n",
       "MONK-3          0.0    0.055556"
      ]
     },
     "execution_count": 4,
     "metadata": {},
     "output_type": "execute_result"
    }
   ],
   "source": [
    "train=[]\n",
    "test=[]\n",
    "t=dtree.buildTree(m.monk1,m.attributes)\n",
    "train.append(1-dtree.check(t,m.monk1))\n",
    "test.append(1-dtree.check(t,m.monk1test))\n",
    "t=dtree.buildTree(m.monk2,m.attributes)\n",
    "train.append(1-dtree.check(t,m.monk2))\n",
    "test.append(1-dtree.check(t,m.monk2test))\n",
    "t=dtree.buildTree(m.monk3,m.attributes)\n",
    "train.append(1-dtree.check(t,m.monk3))\n",
    "test.append(1-dtree.check(t,m.monk3test))\n",
    "pd.DataFrame([train,test],columns=['MONK-1','MONK-2','MONK-3'],index=['$E_{train}$','$E_{test}$']).T"
   ]
  },
  {
   "cell_type": "markdown",
   "metadata": {},
   "source": [
    "Assumption were not correct, MONK-3 has higher performance compared to MONK-1.\n",
    "\n",
    "Error for training is 0 because of overfitting. This tree have a high error, beucase it's not general model (overfitted with our training)"
   ]
  },
  {
   "cell_type": "markdown",
   "metadata": {},
   "source": [
    "## Assignment 6"
   ]
  },
  {
   "cell_type": "markdown",
   "metadata": {},
   "source": [
    "Bias and variance is something that we have to consider as a trade-off when building a tree. When the tree has high complexity, it will give less bias, but more variance, vice versa. By pruning the tree, we remove overfitting tree nodes, that can result in less variance (but of course, increasing bias)"
   ]
  },
  {
   "cell_type": "markdown",
   "metadata": {},
   "source": [
    "## Assignment 7"
   ]
  },
  {
   "cell_type": "code",
   "execution_count": 5,
   "metadata": {},
   "outputs": [],
   "source": [
    "def partition(data, fraction):\n",
    "    ldata = list(data)\n",
    "    random.shuffle(ldata)\n",
    "    breakPoint = int(len(ldata) * fraction)\n",
    "    return ldata[:breakPoint], ldata[breakPoint:]\n",
    "def get_best(ds,f):\n",
    "    t,v=partition(ds,f)\n",
    "    tree=dtree.buildTree(t,m.attributes)\n",
    "    perf=dtree.check(tree,v)\n",
    "    pruned=dtree.allPruned(tree)\n",
    "    for i in pruned:\n",
    "        perf_temp=dtree.check(i,v)\n",
    "        if perf_temp > perf:\n",
    "            tree=i\n",
    "            perf=perf_temp\n",
    "    return tree\n",
    "def check_error(f,train,test):\n",
    "    error=[]\n",
    "    std=[]\n",
    "    for i in f:\n",
    "        temp=[1-dtree.check(get_best(train,i),test) for j in range(100)]\n",
    "        error.append(np.mean(temp))\n",
    "        std.append(temp)\n",
    "    return (error,std)"
   ]
  },
  {
   "cell_type": "code",
   "execution_count": 6,
   "metadata": {},
   "outputs": [],
   "source": [
    "fraction=[0.3, 0.4, 0.5, 0.6, 0.7, 0.8]"
   ]
  },
  {
   "cell_type": "code",
   "execution_count": 7,
   "metadata": {},
   "outputs": [],
   "source": [
    "a,b=check_error(fraction,m.monk1,m.monk1test)\n",
    "c,d=check_error(fraction,m.monk3,m.monk3test)"
   ]
  },
  {
   "cell_type": "code",
   "execution_count": 8,
   "metadata": {},
   "outputs": [
    {
     "data": {
      "image/png": "[encoded data removed]",
      "text/plain": [
       "<matplotlib.figure.Figure at 0x106c52a90>"
      ]
     },
     "metadata": {},
     "output_type": "display_data"
    }
   ],
   "source": [
    "plt.figure(figsize=(20,10))\n",
    "temp=pd.concat([pd.DataFrame(b),pd.DataFrame(d)])\n",
    "temp['Fractions']=fraction*2\n",
    "temp=temp.set_index('Fractions', append=True).stack().to_frame().reset_index().rename(columns={'level_2': 'DataSet', 0: 'Classification Error'}).drop('level_0', axis='columns')\n",
    "temp['DataSet']=(['MONK-1']*100*len(fraction)+['MONK-3']*100*len(fraction))\n",
    "sns.boxplot(x='Fractions', y='Classification Error', hue='DataSet', data=temp).set_title('Classification Error vs Fractions')\n",
    "sns.despine(offset=10, trim=True)\n",
    "plt.show()"
   ]
  },
  {
   "cell_type": "code",
   "execution_count": null,
   "metadata": {},
   "outputs": [],
   "source": []
  }
 ],
 "metadata": {
  "kernelspec": {
   "display_name": "Python 3",
   "language": "python",
   "name": "python3"
  },
  "language_info": {
   "codemirror_mode": {
    "name": "ipython",
    "version": 3
   },
   "file_extension": ".py",
   "mimetype": "text/x-python",
   "name": "python",
   "nbconvert_exporter": "python",
   "pygments_lexer": "ipython3",
   "version": "3.6.0b1"
  }
 },
 "nbformat": 4,
 "nbformat_minor": 2
}
